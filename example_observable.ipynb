{
 "cells": [
  {
   "cell_type": "code",
   "execution_count": 11,
   "metadata": {},
   "outputs": [],
   "source": [
    "from qiskit_ibm_runtime import Estimator\n",
    "from qiskit import QuantumCircuit\n",
    "from qiskit_aer import AerSimulator\n",
    "from src.observable import create_parametrized_hermitian_matrix, hermitian_to_sparsepauliop, random_complex_vector, assign_parameters_to_matrix\n",
    "from src.run_estimator import run_estimator"
   ]
  },
  {
   "cell_type": "markdown",
   "metadata": {},
   "source": [
    "# Make the observable"
   ]
  },
  {
   "cell_type": "code",
   "execution_count": 12,
   "metadata": {},
   "outputs": [],
   "source": [
    "\n",
    "n_qubits = 3"
   ]
  },
  {
   "cell_type": "code",
   "execution_count": 13,
   "metadata": {},
   "outputs": [],
   "source": [
    "# Create a parametrized observable\n",
    "N = 2**n_qubits\n",
    "matrix = create_parametrized_hermitian_matrix(N)\n"
   ]
  },
  {
   "cell_type": "code",
   "execution_count": 14,
   "metadata": {},
   "outputs": [],
   "source": [
    "n_params = N**2\n",
    "params = random_complex_vector(n_params, seed=0)"
   ]
  },
  {
   "cell_type": "code",
   "execution_count": 15,
   "metadata": {},
   "outputs": [],
   "source": [
    "assigned_matrix = assign_parameters_to_matrix(matrix, params)\n",
    "sparse_pauli_op = hermitian_to_sparsepauliop(assigned_matrix, n_qubits)"
   ]
  },
  {
   "cell_type": "code",
   "execution_count": 16,
   "metadata": {},
   "outputs": [
    {
     "data": {
      "text/plain": [
       "SparsePauliOp(['III', 'IIX', 'IIY', 'IIZ', 'IXI', 'IXX', 'IXY', 'IXZ', 'IYI', 'IYX', 'IYY', 'IYZ', 'IZI', 'IZX', 'IZY', 'IZZ', 'XII', 'XIX', 'XIY', 'XIZ', 'XXI', 'XXX', 'XXY', 'XXZ', 'XYI', 'XYX', 'XYY', 'XYZ', 'XZI', 'XZX', 'XZY', 'XZZ', 'YII', 'YIX', 'YIY', 'YIZ', 'YXI', 'YXX', 'YXY', 'YXZ', 'YYI', 'YYX', 'YYY', 'YYZ', 'YZI', 'YZX', 'YZY', 'YZZ', 'ZII', 'ZIX', 'ZIY', 'ZIZ', 'ZXI', 'ZXX', 'ZXY', 'ZXZ', 'ZYI', 'ZYX', 'ZYY', 'ZYZ', 'ZZI', 'ZZX', 'ZZY', 'ZZZ'],\n",
       "              coeffs=[ 0.53560925+0.j,  0.59919467+0.j, -0.0607665 +0.j,  0.00137643+0.j,\n",
       "  0.49540263+0.j,  0.43008997+0.j,  0.0164206 +0.j,  0.14337329+0.j,\n",
       "  0.03662401+0.j, -0.03129267+0.j,  0.0541031 +0.j, -0.12589923+0.j,\n",
       "  0.0181379 +0.j,  0.14144354+0.j,  0.20104389+0.j,  0.02533102+0.j,\n",
       "  0.53659614+0.j,  0.5114847 +0.j,  0.1462997 +0.j, -0.05872583+0.j,\n",
       "  0.3207165 +0.j,  0.57698772+0.j,  0.08863264+0.j,  0.11688942+0.j,\n",
       " -0.00158085+0.j,  0.00729372+0.j, -0.09410357+0.j, -0.13324884+0.j,\n",
       "  0.02401229+0.j,  0.02398543+0.j, -0.04246117+0.j, -0.06198004+0.j,\n",
       "  0.11948468+0.j,  0.10739976+0.j, -0.05157579+0.j, -0.10970523+0.j,\n",
       "  0.02798497+0.j,  0.05718124+0.j, -0.18343005+0.j, -0.03164537+0.j,\n",
       "  0.04735739+0.j,  0.08208068+0.j,  0.02480606+0.j,  0.01374076+0.j,\n",
       " -0.06835248+0.j, -0.13491093+0.j,  0.08434491+0.j, -0.06714296+0.j,\n",
       "  0.12816092+0.j,  0.07385972+0.j,  0.11929969+0.j, -0.00166148+0.j,\n",
       " -0.04745321+0.j,  0.14178565+0.j,  0.18454085+0.j, -0.27983183+0.j,\n",
       "  0.06015058+0.j,  0.06975383+0.j,  0.18619372+0.j, -0.22238039+0.j,\n",
       " -0.21578057+0.j,  0.02492814+0.j,  0.04444088+0.j,  0.05764001+0.j])"
      ]
     },
     "execution_count": 16,
     "metadata": {},
     "output_type": "execute_result"
    }
   ],
   "source": [
    "sparse_pauli_op"
   ]
  },
  {
   "cell_type": "markdown",
   "metadata": {},
   "source": [
    "# Create a circuit"
   ]
  },
  {
   "cell_type": "code",
   "execution_count": 17,
   "metadata": {},
   "outputs": [
    {
     "data": {
      "image/png": "[encoded data removed]",
      "text/plain": [
       "<Figure size 454.719x284.278 with 1 Axes>"
      ]
     },
     "execution_count": 17,
     "metadata": {},
     "output_type": "execute_result"
    }
   ],
   "source": [
    "# Create a circuit of all H's followed by a CNOT circular chain\n",
    "qc = QuantumCircuit(n_qubits)\n",
    "qc.h(range(n_qubits))\n",
    "for i in range(n_qubits):\n",
    "    qc.cx(i, (i + 1) % n_qubits)\n",
    "    \n",
    "qc.draw('mpl', fold=-1)\n"
   ]
  },
  {
   "cell_type": "markdown",
   "metadata": {},
   "source": [
    "# Run on Estimator"
   ]
  },
  {
   "cell_type": "code",
   "execution_count": 18,
   "metadata": {},
   "outputs": [],
   "source": [
    "shots = 100_000\n",
    "pubs = [(qc, sparse_pauli_op)]\n",
    "\n",
    "result = run_estimator(pubs, shots)"
   ]
  },
  {
   "cell_type": "code",
   "execution_count": 19,
   "metadata": {},
   "outputs": [
    {
     "data": {
      "text/plain": [
       "4.011913056376304"
      ]
     },
     "execution_count": 19,
     "metadata": {},
     "output_type": "execute_result"
    }
   ],
   "source": [
    "result[0].data.evs.tolist()"
   ]
  }
 ],
 "metadata": {
  "kernelspec": {
   "display_name": "lr_obs",
   "language": "python",
   "name": "python3"
  },
  "language_info": {
   "codemirror_mode": {
    "name": "ipython",
    "version": 3
   },
   "file_extension": ".py",
   "mimetype": "text/x-python",
   "name": "python",
   "nbconvert_exporter": "python",
   "pygments_lexer": "ipython3",
   "version": "3.13.2"
  }
 },
 "nbformat": 4,
 "nbformat_minor": 2
}
